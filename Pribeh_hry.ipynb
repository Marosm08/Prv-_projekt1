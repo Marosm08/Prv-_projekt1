{
  "nbformat": 4,
  "nbformat_minor": 0,
  "metadata": {
    "colab": {
      "provenance": [],
      "authorship_tag": "ABX9TyNQDrbq9Gq8NooyNDJLoZ4o",
      "include_colab_link": true
    },
    "kernelspec": {
      "name": "python3",
      "display_name": "Python 3"
    },
    "language_info": {
      "name": "python"
    }
  },
  "cells": [
    {
      "cell_type": "markdown",
      "metadata": {
        "id": "view-in-github",
        "colab_type": "text"
      },
      "source": [
        "<a href=\"https://colab.research.google.com/github/Marosm08/Prv-_projekt1/blob/main/Pribeh_hry.ipynb\" target=\"_parent\"><img src=\"https://colab.research.google.com/assets/colab-badge.svg\" alt=\"Open In Colab\"/></a>"
      ]
    },
    {
      "cell_type": "code",
      "execution_count": null,
      "metadata": {
        "id": "7BiEOj9h_wrG"
      },
      "outputs": [],
      "source": []
    },
    {
      "cell_type": "markdown",
      "source": [
        "# Príbeh hry\n",
        "Príbeh s tromi možnosťami na konci. Po výberu sa vytvorí ďalšia časť príbehu. Vždy je len jedna možnosť správna.\n",
        "\n",
        "**Postup**\n",
        "1. Napíš príbeh\n",
        "2. Zvol si kadiaľ chceš ísť"
      ],
      "metadata": {
        "id": "pPvTX26wAF61"
      }
    },
    {
      "cell_type": "code",
      "source": [
        "# prompt: Naprogramuj mi príbeh s tromi možnosťami. Po výberu sa vytvorí ďalšia časť príbehu. Vždy je len jedna možnosť správna.\n",
        "\n",
        "# Story part 1\n",
        "print(\"Si na začiatku temného lesa. Počuješ zvláštne zvuky hlboko vo vnútri.\")\n",
        "print(\"Máš tri možnosti:\")\n",
        "print(\"1. Vstúpiš do lesa a budeš nasledovať zvuky.\")\n",
        "print(\"2. Otočíš sa a pôjdeš domov.\")\n",
        "print(\"3. Skúsiš obísť les po okraji.\")\n",
        "\n",
        "# Get user input\n",
        "choice = input(\"Zadaj číslo svojej voľby (1, 2, alebo 3): \")\n",
        "\n",
        "# Story part 2 based on choice\n",
        "if choice == '1':\n",
        "  print(\"\\nVstúpil si do lesa. Stromy sú husté a svetla je málo. Zvuky sa zosilňujú a zdá sa, že prichádzajú spredu.\")\n",
        "  print(\"Ďalšie možnosti:\")\n",
        "  print(\"1. Pokračuješ rovno za zvukmi.\")\n",
        "  print(\"2. Pokúsiš sa vyliezť na strom, aby si videl, čo sa deje.\")\n",
        "  print(\"3. Schováš sa za veľký kameň a budeš čakať.\")\n",
        "\n",
        "  choice2 = input(\"Zadaj číslo svojej voľby (1, 2, alebo 3): \")\n",
        "\n",
        "  # Story part 3 based on choice 2\n",
        "  if choice2 == '1':\n",
        "    print(\"\\nPokračuješ rovno. Zrazu vyjde spoza stromu priateľský zajac. Zdá sa, že to on vydával tie zvuky.\")\n",
        "    print(\"Gratulujem, našiel si bezpečnú cestu a prežil si!\")\n",
        "  elif choice2 == '2':\n",
        "    print(\"\\nPokúsil si sa vyliezť na strom, ale konár sa zlomil a spadol si. Bohužiaľ, tvoja cesta končí tu.\")\n",
        "  elif choice2 == '3':\n",
        "    print(\"\\nSchoval si sa za kameň, ale lesné bytosti ťa objavili. Tvoj príbeh tu končí.\")\n",
        "  else:\n",
        "    print(\"\\nNeplatná voľba. Tvoj príbeh sa končí.\")\n",
        "\n",
        "elif choice == '2':\n",
        "  print(\"\\nOtočil si sa a vrátil si sa domov. Tvoj príbeh končí, bez dobrodružstva.\")\n",
        "\n",
        "elif choice == '3':\n",
        "  print(\"\\nSkúsil si obísť les po okraji. Cesta je dlhá a únavná. Na konci okraja lesa narazíš na rieku, ktorú nemôžeš prebrodiť.\")\n",
        "  print(\"Tvoja cesta sa končí tu.\")\n",
        "\n",
        "else:\n",
        "  print(\"\\nNeplatná voľba. Tvoj príbeh sa končí.\")\n"
      ],
      "metadata": {
        "colab": {
          "base_uri": "https://localhost:8080/"
        },
        "id": "Ie8Q_1N1BwqV",
        "outputId": "43144a1d-772b-4084-c02e-a257d1b770aa"
      },
      "execution_count": 1,
      "outputs": [
        {
          "output_type": "stream",
          "name": "stdout",
          "text": [
            "Si na začiatku temného lesa. Počuješ zvláštne zvuky hlboko vo vnútri.\n",
            "Máš tri možnosti:\n",
            "1. Vstúpiš do lesa a budeš nasledovať zvuky.\n",
            "2. Otočíš sa a pôjdeš domov.\n",
            "3. Skúsiš obísť les po okraji.\n",
            "Zadaj číslo svojej voľby (1, 2, alebo 3): 1\n",
            "\n",
            "Vstúpil si do lesa. Stromy sú husté a svetla je málo. Zvuky sa zosilňujú a zdá sa, že prichádzajú spredu.\n",
            "Ďalšie možnosti:\n",
            "1. Pokračuješ rovno za zvukmi.\n",
            "2. Pokúsiš sa vyliezť na strom, aby si videl, čo sa deje.\n",
            "3. Schováš sa za veľký kameň a budeš čakať.\n",
            "Zadaj číslo svojej voľby (1, 2, alebo 3): 1\n",
            "\n",
            "Pokračuješ rovno. Zrazu vyjde spoza stromu priateľský zajac. Zdá sa, že to on vydával tie zvuky.\n",
            "Gratulujem, našiel si bezpečnú cestu a prežil si!\n"
          ]
        }
      ]
    }
  ]
}